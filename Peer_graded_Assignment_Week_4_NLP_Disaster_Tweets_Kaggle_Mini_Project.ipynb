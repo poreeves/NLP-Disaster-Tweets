{
 "cells": [
  {
   "cell_type": "markdown",
   "metadata": {
    "id": "Y4vLhZAanOSI"
   },
   "source": [
    "# NLP Disaster Tweets Kaggle Mini-Project"
   ]
  },
  {
   "cell_type": "markdown",
   "metadata": {
    "id": "fqA9xGNUnN_F"
   },
   "source": [
    "When natural disasters strike, time is of the essence. The more warning time we have, the better our response will be. In today’s age, where a majority of people have access to the internet or a smart phone, social media sites are great places to find current events happening right now. In this notebook we will explore a data set of Tweets and classify them as being real reports of a disaster or not. We will use Natural Language Processing techniques to reshape, analyze, and classify disaster tweets."
   ]
  },
  {
   "cell_type": "markdown",
   "metadata": {
    "id": "NcRRdpLwxOUX"
   },
   "source": [
    "The Github Repo for this notebook can be found [here](https://github.com/poreeves/NLP-Disaster-Tweets)."
   ]
  },
  {
   "cell_type": "markdown",
   "metadata": {
    "id": "5TwpxLt3wza5"
   },
   "source": [
    "We will be using the Tensorflow and Keras Libraries"
   ]
  },
  {
   "cell_type": "code",
   "execution_count": 1,
   "metadata": {
    "id": "77YbcMnNEhan"
   },
   "outputs": [],
   "source": [
    "import numpy as np\n",
    "import pandas as pd\n",
    "import matplotlib.pyplot as plt\n",
    "import tensorflow as tf\n",
    "import keras\n",
    "import io\n",
    "\n",
    "from tensorflow.keras.preprocessing.text import Tokenizer\n",
    "from keras.layers import Embedding, SimpleRNN, Dense, LSTM, BatchNormalization,GlobalMaxPool1D, Dropout\n",
    "from keras.models import Sequential\n",
    "from keras.preprocessing import sequence\n"
   ]
  },
  {
   "cell_type": "markdown",
   "metadata": {
    "id": "sLG8MH02nO7J"
   },
   "source": [
    "I created this notebook in Google Colabs. And easy way to import the data into this notebook is to download the data sets [here](https://www.kaggle.com/competitions/nlp-getting-started/data) and then browser them using the cell below."
   ]
  },
  {
   "cell_type": "code",
   "execution_count": 2,
   "metadata": {
    "colab": {
     "base_uri": "https://localhost:8080/",
     "height": 144
    },
    "id": "Qn-PfadnHD0U",
    "outputId": "5b6396d4-c01c-4d6c-dced-7237b1c0fc02"
   },
   "outputs": [
    {
     "data": {
      "text/html": [
       "\n",
       "     <input type=\"file\" id=\"files-c3ff5783-7d7c-4169-86ee-c835dcde2624\" name=\"files[]\" multiple disabled\n",
       "        style=\"border:none\" />\n",
       "     <output id=\"result-c3ff5783-7d7c-4169-86ee-c835dcde2624\">\n",
       "      Upload widget is only available when the cell has been executed in the\n",
       "      current browser session. Please rerun this cell to enable.\n",
       "      </output>\n",
       "      <script>// Copyright 2017 Google LLC\n",
       "//\n",
       "// Licensed under the Apache License, Version 2.0 (the \"License\");\n",
       "// you may not use this file except in compliance with the License.\n",
       "// You may obtain a copy of the License at\n",
       "//\n",
       "//      http://www.apache.org/licenses/LICENSE-2.0\n",
       "//\n",
       "// Unless required by applicable law or agreed to in writing, software\n",
       "// distributed under the License is distributed on an \"AS IS\" BASIS,\n",
       "// WITHOUT WARRANTIES OR CONDITIONS OF ANY KIND, either express or implied.\n",
       "// See the License for the specific language governing permissions and\n",
       "// limitations under the License.\n",
       "\n",
       "/**\n",
       " * @fileoverview Helpers for google.colab Python module.\n",
       " */\n",
       "(function(scope) {\n",
       "function span(text, styleAttributes = {}) {\n",
       "  const element = document.createElement('span');\n",
       "  element.textContent = text;\n",
       "  for (const key of Object.keys(styleAttributes)) {\n",
       "    element.style[key] = styleAttributes[key];\n",
       "  }\n",
       "  return element;\n",
       "}\n",
       "\n",
       "// Max number of bytes which will be uploaded at a time.\n",
       "const MAX_PAYLOAD_SIZE = 100 * 1024;\n",
       "\n",
       "function _uploadFiles(inputId, outputId) {\n",
       "  const steps = uploadFilesStep(inputId, outputId);\n",
       "  const outputElement = document.getElementById(outputId);\n",
       "  // Cache steps on the outputElement to make it available for the next call\n",
       "  // to uploadFilesContinue from Python.\n",
       "  outputElement.steps = steps;\n",
       "\n",
       "  return _uploadFilesContinue(outputId);\n",
       "}\n",
       "\n",
       "// This is roughly an async generator (not supported in the browser yet),\n",
       "// where there are multiple asynchronous steps and the Python side is going\n",
       "// to poll for completion of each step.\n",
       "// This uses a Promise to block the python side on completion of each step,\n",
       "// then passes the result of the previous step as the input to the next step.\n",
       "function _uploadFilesContinue(outputId) {\n",
       "  const outputElement = document.getElementById(outputId);\n",
       "  const steps = outputElement.steps;\n",
       "\n",
       "  const next = steps.next(outputElement.lastPromiseValue);\n",
       "  return Promise.resolve(next.value.promise).then((value) => {\n",
       "    // Cache the last promise value to make it available to the next\n",
       "    // step of the generator.\n",
       "    outputElement.lastPromiseValue = value;\n",
       "    return next.value.response;\n",
       "  });\n",
       "}\n",
       "\n",
       "/**\n",
       " * Generator function which is called between each async step of the upload\n",
       " * process.\n",
       " * @param {string} inputId Element ID of the input file picker element.\n",
       " * @param {string} outputId Element ID of the output display.\n",
       " * @return {!Iterable<!Object>} Iterable of next steps.\n",
       " */\n",
       "function* uploadFilesStep(inputId, outputId) {\n",
       "  const inputElement = document.getElementById(inputId);\n",
       "  inputElement.disabled = false;\n",
       "\n",
       "  const outputElement = document.getElementById(outputId);\n",
       "  outputElement.innerHTML = '';\n",
       "\n",
       "  const pickedPromise = new Promise((resolve) => {\n",
       "    inputElement.addEventListener('change', (e) => {\n",
       "      resolve(e.target.files);\n",
       "    });\n",
       "  });\n",
       "\n",
       "  const cancel = document.createElement('button');\n",
       "  inputElement.parentElement.appendChild(cancel);\n",
       "  cancel.textContent = 'Cancel upload';\n",
       "  const cancelPromise = new Promise((resolve) => {\n",
       "    cancel.onclick = () => {\n",
       "      resolve(null);\n",
       "    };\n",
       "  });\n",
       "\n",
       "  // Wait for the user to pick the files.\n",
       "  const files = yield {\n",
       "    promise: Promise.race([pickedPromise, cancelPromise]),\n",
       "    response: {\n",
       "      action: 'starting',\n",
       "    }\n",
       "  };\n",
       "\n",
       "  cancel.remove();\n",
       "\n",
       "  // Disable the input element since further picks are not allowed.\n",
       "  inputElement.disabled = true;\n",
       "\n",
       "  if (!files) {\n",
       "    return {\n",
       "      response: {\n",
       "        action: 'complete',\n",
       "      }\n",
       "    };\n",
       "  }\n",
       "\n",
       "  for (const file of files) {\n",
       "    const li = document.createElement('li');\n",
       "    li.append(span(file.name, {fontWeight: 'bold'}));\n",
       "    li.append(span(\n",
       "        `(${file.type || 'n/a'}) - ${file.size} bytes, ` +\n",
       "        `last modified: ${\n",
       "            file.lastModifiedDate ? file.lastModifiedDate.toLocaleDateString() :\n",
       "                                    'n/a'} - `));\n",
       "    const percent = span('0% done');\n",
       "    li.appendChild(percent);\n",
       "\n",
       "    outputElement.appendChild(li);\n",
       "\n",
       "    const fileDataPromise = new Promise((resolve) => {\n",
       "      const reader = new FileReader();\n",
       "      reader.onload = (e) => {\n",
       "        resolve(e.target.result);\n",
       "      };\n",
       "      reader.readAsArrayBuffer(file);\n",
       "    });\n",
       "    // Wait for the data to be ready.\n",
       "    let fileData = yield {\n",
       "      promise: fileDataPromise,\n",
       "      response: {\n",
       "        action: 'continue',\n",
       "      }\n",
       "    };\n",
       "\n",
       "    // Use a chunked sending to avoid message size limits. See b/62115660.\n",
       "    let position = 0;\n",
       "    do {\n",
       "      const length = Math.min(fileData.byteLength - position, MAX_PAYLOAD_SIZE);\n",
       "      const chunk = new Uint8Array(fileData, position, length);\n",
       "      position += length;\n",
       "\n",
       "      const base64 = btoa(String.fromCharCode.apply(null, chunk));\n",
       "      yield {\n",
       "        response: {\n",
       "          action: 'append',\n",
       "          file: file.name,\n",
       "          data: base64,\n",
       "        },\n",
       "      };\n",
       "\n",
       "      let percentDone = fileData.byteLength === 0 ?\n",
       "          100 :\n",
       "          Math.round((position / fileData.byteLength) * 100);\n",
       "      percent.textContent = `${percentDone}% done`;\n",
       "\n",
       "    } while (position < fileData.byteLength);\n",
       "  }\n",
       "\n",
       "  // All done.\n",
       "  yield {\n",
       "    response: {\n",
       "      action: 'complete',\n",
       "    }\n",
       "  };\n",
       "}\n",
       "\n",
       "scope.google = scope.google || {};\n",
       "scope.google.colab = scope.google.colab || {};\n",
       "scope.google.colab._files = {\n",
       "  _uploadFiles,\n",
       "  _uploadFilesContinue,\n",
       "};\n",
       "})(self);\n",
       "</script> "
      ],
      "text/plain": [
       "<IPython.core.display.HTML object>"
      ]
     },
     "metadata": {},
     "output_type": "display_data"
    },
    {
     "name": "stdout",
     "output_type": "stream",
     "text": [
      "Saving sample_submission.csv to sample_submission.csv\n",
      "Saving test.csv to test.csv\n",
      "Saving train.csv to train.csv\n"
     ]
    }
   ],
   "source": [
    "from google.colab import files\n",
    "uploaded = files.upload()"
   ]
  },
  {
   "cell_type": "markdown",
   "metadata": {
    "id": "4P8MXw6rnPmT"
   },
   "source": [
    "# EDA"
   ]
  },
  {
   "cell_type": "markdown",
   "metadata": {
    "id": "FE3fCYqInS06"
   },
   "source": [
    "Now that we have the data imported let's take a look at it."
   ]
  },
  {
   "cell_type": "code",
   "execution_count": 3,
   "metadata": {
    "id": "JHXvMwIVHYQx"
   },
   "outputs": [],
   "source": [
    "df_train = pd.read_csv(io.BytesIO(uploaded['train.csv']))\n",
    "df_test = pd.read_csv(io.BytesIO(uploaded['test.csv']))\n",
    "df_sample_sub = pd.read_csv(io.BytesIO(uploaded['sample_submission.csv']))\n"
   ]
  },
  {
   "cell_type": "markdown",
   "metadata": {
    "id": "7-WgDxB1xc4-"
   },
   "source": [
    "There were three csv files. The train csv file contains tweets with their classifiers, disaster or not. The test csv file just contains the tweets. The sample submission file will be used to upload our results to Kaggle."
   ]
  },
  {
   "cell_type": "code",
   "execution_count": 4,
   "metadata": {
    "colab": {
     "base_uri": "https://localhost:8080/"
    },
    "id": "J924G-v5HgZ9",
    "outputId": "7209c39d-d630-4982-a04e-de7a98e66542"
   },
   "outputs": [
    {
     "name": "stdout",
     "output_type": "stream",
     "text": [
      "<class 'pandas.core.frame.DataFrame'>\n",
      "RangeIndex: 7613 entries, 0 to 7612\n",
      "Data columns (total 5 columns):\n",
      " #   Column    Non-Null Count  Dtype \n",
      "---  ------    --------------  ----- \n",
      " 0   id        7613 non-null   int64 \n",
      " 1   keyword   7552 non-null   object\n",
      " 2   location  5080 non-null   object\n",
      " 3   text      7613 non-null   object\n",
      " 4   target    7613 non-null   int64 \n",
      "dtypes: int64(2), object(3)\n",
      "memory usage: 297.5+ KB\n",
      "None\n",
      "<class 'pandas.core.frame.DataFrame'>\n",
      "RangeIndex: 3263 entries, 0 to 3262\n",
      "Data columns (total 4 columns):\n",
      " #   Column    Non-Null Count  Dtype \n",
      "---  ------    --------------  ----- \n",
      " 0   id        3263 non-null   int64 \n",
      " 1   keyword   3237 non-null   object\n",
      " 2   location  2158 non-null   object\n",
      " 3   text      3263 non-null   object\n",
      "dtypes: int64(1), object(3)\n",
      "memory usage: 102.1+ KB\n",
      "None\n",
      "<class 'pandas.core.frame.DataFrame'>\n",
      "RangeIndex: 3263 entries, 0 to 3262\n",
      "Data columns (total 2 columns):\n",
      " #   Column  Non-Null Count  Dtype\n",
      "---  ------  --------------  -----\n",
      " 0   id      3263 non-null   int64\n",
      " 1   target  3263 non-null   int64\n",
      "dtypes: int64(2)\n",
      "memory usage: 51.1 KB\n",
      "None\n"
     ]
    }
   ],
   "source": [
    "print(df_train.info())\n",
    "print(df_test.info())\n",
    "print(df_sample_sub.info())"
   ]
  },
  {
   "cell_type": "markdown",
   "metadata": {
    "id": "CP3SRl8zxv8l"
   },
   "source": [
    "Our training dataset has 7613 tweets with information about the tweet and its classifier. The testing dataset has 3263 tweets with information about the tweet but no classifier."
   ]
  },
  {
   "cell_type": "markdown",
   "metadata": {
    "id": "lwjf26E4gs2Y"
   },
   "source": [
    "Let’s create a clean data frame that only has what we need for our model."
   ]
  },
  {
   "cell_type": "code",
   "execution_count": 19,
   "metadata": {
    "id": "P8hQC6ImITFt"
   },
   "outputs": [],
   "source": [
    "df_train_clean = df_train[['id','text','target']]\n",
    "df_test_clean = df_test[['id','text']]"
   ]
  },
  {
   "cell_type": "code",
   "execution_count": 16,
   "metadata": {
    "colab": {
     "base_uri": "https://localhost:8080/",
     "height": 206
    },
    "id": "JdSbSglskVNM",
    "outputId": "9522bf21-c4ff-41cf-9cca-4e14f0692dcb"
   },
   "outputs": [
    {
     "data": {
      "text/html": [
       "\n",
       "  <div id=\"df-9902d0fa-0398-4f80-8a75-34dbc8916ae5\" class=\"colab-df-container\">\n",
       "    <div>\n",
       "<style scoped>\n",
       "    .dataframe tbody tr th:only-of-type {\n",
       "        vertical-align: middle;\n",
       "    }\n",
       "\n",
       "    .dataframe tbody tr th {\n",
       "        vertical-align: top;\n",
       "    }\n",
       "\n",
       "    .dataframe thead th {\n",
       "        text-align: right;\n",
       "    }\n",
       "</style>\n",
       "<table border=\"1\" class=\"dataframe\">\n",
       "  <thead>\n",
       "    <tr style=\"text-align: right;\">\n",
       "      <th></th>\n",
       "      <th>id</th>\n",
       "      <th>text</th>\n",
       "      <th>target</th>\n",
       "    </tr>\n",
       "  </thead>\n",
       "  <tbody>\n",
       "    <tr>\n",
       "      <th>0</th>\n",
       "      <td>1</td>\n",
       "      <td>Our Deeds are the Reason of this #earthquake M...</td>\n",
       "      <td>1</td>\n",
       "    </tr>\n",
       "    <tr>\n",
       "      <th>1</th>\n",
       "      <td>4</td>\n",
       "      <td>Forest fire near La Ronge Sask. Canada</td>\n",
       "      <td>1</td>\n",
       "    </tr>\n",
       "    <tr>\n",
       "      <th>2</th>\n",
       "      <td>5</td>\n",
       "      <td>All residents asked to 'shelter in place' are ...</td>\n",
       "      <td>1</td>\n",
       "    </tr>\n",
       "    <tr>\n",
       "      <th>3</th>\n",
       "      <td>6</td>\n",
       "      <td>13,000 people receive #wildfires evacuation or...</td>\n",
       "      <td>1</td>\n",
       "    </tr>\n",
       "    <tr>\n",
       "      <th>4</th>\n",
       "      <td>7</td>\n",
       "      <td>Just got sent this photo from Ruby #Alaska as ...</td>\n",
       "      <td>1</td>\n",
       "    </tr>\n",
       "  </tbody>\n",
       "</table>\n",
       "</div>\n",
       "    <div class=\"colab-df-buttons\">\n",
       "\n",
       "  <div class=\"colab-df-container\">\n",
       "    <button class=\"colab-df-convert\" onclick=\"convertToInteractive('df-9902d0fa-0398-4f80-8a75-34dbc8916ae5')\"\n",
       "            title=\"Convert this dataframe to an interactive table.\"\n",
       "            style=\"display:none;\">\n",
       "\n",
       "  <svg xmlns=\"http://www.w3.org/2000/svg\" height=\"24px\" viewBox=\"0 -960 960 960\">\n",
       "    <path d=\"M120-120v-720h720v720H120Zm60-500h600v-160H180v160Zm220 220h160v-160H400v160Zm0 220h160v-160H400v160ZM180-400h160v-160H180v160Zm440 0h160v-160H620v160ZM180-180h160v-160H180v160Zm440 0h160v-160H620v160Z\"/>\n",
       "  </svg>\n",
       "    </button>\n",
       "\n",
       "  <style>\n",
       "    .colab-df-container {\n",
       "      display:flex;\n",
       "      gap: 12px;\n",
       "    }\n",
       "\n",
       "    .colab-df-convert {\n",
       "      background-color: #E8F0FE;\n",
       "      border: none;\n",
       "      border-radius: 50%;\n",
       "      cursor: pointer;\n",
       "      display: none;\n",
       "      fill: #1967D2;\n",
       "      height: 32px;\n",
       "      padding: 0 0 0 0;\n",
       "      width: 32px;\n",
       "    }\n",
       "\n",
       "    .colab-df-convert:hover {\n",
       "      background-color: #E2EBFA;\n",
       "      box-shadow: 0px 1px 2px rgba(60, 64, 67, 0.3), 0px 1px 3px 1px rgba(60, 64, 67, 0.15);\n",
       "      fill: #174EA6;\n",
       "    }\n",
       "\n",
       "    .colab-df-buttons div {\n",
       "      margin-bottom: 4px;\n",
       "    }\n",
       "\n",
       "    [theme=dark] .colab-df-convert {\n",
       "      background-color: #3B4455;\n",
       "      fill: #D2E3FC;\n",
       "    }\n",
       "\n",
       "    [theme=dark] .colab-df-convert:hover {\n",
       "      background-color: #434B5C;\n",
       "      box-shadow: 0px 1px 3px 1px rgba(0, 0, 0, 0.15);\n",
       "      filter: drop-shadow(0px 1px 2px rgba(0, 0, 0, 0.3));\n",
       "      fill: #FFFFFF;\n",
       "    }\n",
       "  </style>\n",
       "\n",
       "    <script>\n",
       "      const buttonEl =\n",
       "        document.querySelector('#df-9902d0fa-0398-4f80-8a75-34dbc8916ae5 button.colab-df-convert');\n",
       "      buttonEl.style.display =\n",
       "        google.colab.kernel.accessAllowed ? 'block' : 'none';\n",
       "\n",
       "      async function convertToInteractive(key) {\n",
       "        const element = document.querySelector('#df-9902d0fa-0398-4f80-8a75-34dbc8916ae5');\n",
       "        const dataTable =\n",
       "          await google.colab.kernel.invokeFunction('convertToInteractive',\n",
       "                                                    [key], {});\n",
       "        if (!dataTable) return;\n",
       "\n",
       "        const docLinkHtml = 'Like what you see? Visit the ' +\n",
       "          '<a target=\"_blank\" href=https://colab.research.google.com/notebooks/data_table.ipynb>data table notebook</a>'\n",
       "          + ' to learn more about interactive tables.';\n",
       "        element.innerHTML = '';\n",
       "        dataTable['output_type'] = 'display_data';\n",
       "        await google.colab.output.renderOutput(dataTable, element);\n",
       "        const docLink = document.createElement('div');\n",
       "        docLink.innerHTML = docLinkHtml;\n",
       "        element.appendChild(docLink);\n",
       "      }\n",
       "    </script>\n",
       "  </div>\n",
       "\n",
       "\n",
       "<div id=\"df-ea4fd1c4-9b82-4b1d-a70c-14fa8a38fd9c\">\n",
       "  <button class=\"colab-df-quickchart\" onclick=\"quickchart('df-ea4fd1c4-9b82-4b1d-a70c-14fa8a38fd9c')\"\n",
       "            title=\"Suggest charts.\"\n",
       "            style=\"display:none;\">\n",
       "\n",
       "<svg xmlns=\"http://www.w3.org/2000/svg\" height=\"24px\"viewBox=\"0 0 24 24\"\n",
       "     width=\"24px\">\n",
       "    <g>\n",
       "        <path d=\"M19 3H5c-1.1 0-2 .9-2 2v14c0 1.1.9 2 2 2h14c1.1 0 2-.9 2-2V5c0-1.1-.9-2-2-2zM9 17H7v-7h2v7zm4 0h-2V7h2v10zm4 0h-2v-4h2v4z\"/>\n",
       "    </g>\n",
       "</svg>\n",
       "  </button>\n",
       "\n",
       "<style>\n",
       "  .colab-df-quickchart {\n",
       "      --bg-color: #E8F0FE;\n",
       "      --fill-color: #1967D2;\n",
       "      --hover-bg-color: #E2EBFA;\n",
       "      --hover-fill-color: #174EA6;\n",
       "      --disabled-fill-color: #AAA;\n",
       "      --disabled-bg-color: #DDD;\n",
       "  }\n",
       "\n",
       "  [theme=dark] .colab-df-quickchart {\n",
       "      --bg-color: #3B4455;\n",
       "      --fill-color: #D2E3FC;\n",
       "      --hover-bg-color: #434B5C;\n",
       "      --hover-fill-color: #FFFFFF;\n",
       "      --disabled-bg-color: #3B4455;\n",
       "      --disabled-fill-color: #666;\n",
       "  }\n",
       "\n",
       "  .colab-df-quickchart {\n",
       "    background-color: var(--bg-color);\n",
       "    border: none;\n",
       "    border-radius: 50%;\n",
       "    cursor: pointer;\n",
       "    display: none;\n",
       "    fill: var(--fill-color);\n",
       "    height: 32px;\n",
       "    padding: 0;\n",
       "    width: 32px;\n",
       "  }\n",
       "\n",
       "  .colab-df-quickchart:hover {\n",
       "    background-color: var(--hover-bg-color);\n",
       "    box-shadow: 0 1px 2px rgba(60, 64, 67, 0.3), 0 1px 3px 1px rgba(60, 64, 67, 0.15);\n",
       "    fill: var(--button-hover-fill-color);\n",
       "  }\n",
       "\n",
       "  .colab-df-quickchart-complete:disabled,\n",
       "  .colab-df-quickchart-complete:disabled:hover {\n",
       "    background-color: var(--disabled-bg-color);\n",
       "    fill: var(--disabled-fill-color);\n",
       "    box-shadow: none;\n",
       "  }\n",
       "\n",
       "  .colab-df-spinner {\n",
       "    border: 2px solid var(--fill-color);\n",
       "    border-color: transparent;\n",
       "    border-bottom-color: var(--fill-color);\n",
       "    animation:\n",
       "      spin 1s steps(1) infinite;\n",
       "  }\n",
       "\n",
       "  @keyframes spin {\n",
       "    0% {\n",
       "      border-color: transparent;\n",
       "      border-bottom-color: var(--fill-color);\n",
       "      border-left-color: var(--fill-color);\n",
       "    }\n",
       "    20% {\n",
       "      border-color: transparent;\n",
       "      border-left-color: var(--fill-color);\n",
       "      border-top-color: var(--fill-color);\n",
       "    }\n",
       "    30% {\n",
       "      border-color: transparent;\n",
       "      border-left-color: var(--fill-color);\n",
       "      border-top-color: var(--fill-color);\n",
       "      border-right-color: var(--fill-color);\n",
       "    }\n",
       "    40% {\n",
       "      border-color: transparent;\n",
       "      border-right-color: var(--fill-color);\n",
       "      border-top-color: var(--fill-color);\n",
       "    }\n",
       "    60% {\n",
       "      border-color: transparent;\n",
       "      border-right-color: var(--fill-color);\n",
       "    }\n",
       "    80% {\n",
       "      border-color: transparent;\n",
       "      border-right-color: var(--fill-color);\n",
       "      border-bottom-color: var(--fill-color);\n",
       "    }\n",
       "    90% {\n",
       "      border-color: transparent;\n",
       "      border-bottom-color: var(--fill-color);\n",
       "    }\n",
       "  }\n",
       "</style>\n",
       "\n",
       "  <script>\n",
       "    async function quickchart(key) {\n",
       "      const quickchartButtonEl =\n",
       "        document.querySelector('#' + key + ' button');\n",
       "      quickchartButtonEl.disabled = true;  // To prevent multiple clicks.\n",
       "      quickchartButtonEl.classList.add('colab-df-spinner');\n",
       "      try {\n",
       "        const charts = await google.colab.kernel.invokeFunction(\n",
       "            'suggestCharts', [key], {});\n",
       "      } catch (error) {\n",
       "        console.error('Error during call to suggestCharts:', error);\n",
       "      }\n",
       "      quickchartButtonEl.classList.remove('colab-df-spinner');\n",
       "      quickchartButtonEl.classList.add('colab-df-quickchart-complete');\n",
       "    }\n",
       "    (() => {\n",
       "      let quickchartButtonEl =\n",
       "        document.querySelector('#df-ea4fd1c4-9b82-4b1d-a70c-14fa8a38fd9c button');\n",
       "      quickchartButtonEl.style.display =\n",
       "        google.colab.kernel.accessAllowed ? 'block' : 'none';\n",
       "    })();\n",
       "  </script>\n",
       "</div>\n",
       "\n",
       "    </div>\n",
       "  </div>\n"
      ],
      "text/plain": [
       "   id                                               text  target\n",
       "0   1  Our Deeds are the Reason of this #earthquake M...       1\n",
       "1   4             Forest fire near La Ronge Sask. Canada       1\n",
       "2   5  All residents asked to 'shelter in place' are ...       1\n",
       "3   6  13,000 people receive #wildfires evacuation or...       1\n",
       "4   7  Just got sent this photo from Ruby #Alaska as ...       1"
      ]
     },
     "execution_count": 16,
     "metadata": {},
     "output_type": "execute_result"
    }
   ],
   "source": [
    "df_train_clean.head()\n"
   ]
  },
  {
   "cell_type": "code",
   "execution_count": 18,
   "metadata": {
    "colab": {
     "base_uri": "https://localhost:8080/",
     "height": 206
    },
    "id": "59ym5Mn0kcdV",
    "outputId": "12e2cd4e-9ebc-499a-ee86-abdd9a8b839e"
   },
   "outputs": [
    {
     "data": {
      "text/html": [
       "\n",
       "  <div id=\"df-08df1144-e5ad-4605-9820-63ae06898f51\" class=\"colab-df-container\">\n",
       "    <div>\n",
       "<style scoped>\n",
       "    .dataframe tbody tr th:only-of-type {\n",
       "        vertical-align: middle;\n",
       "    }\n",
       "\n",
       "    .dataframe tbody tr th {\n",
       "        vertical-align: top;\n",
       "    }\n",
       "\n",
       "    .dataframe thead th {\n",
       "        text-align: right;\n",
       "    }\n",
       "</style>\n",
       "<table border=\"1\" class=\"dataframe\">\n",
       "  <thead>\n",
       "    <tr style=\"text-align: right;\">\n",
       "      <th></th>\n",
       "      <th>id</th>\n",
       "      <th>text</th>\n",
       "    </tr>\n",
       "  </thead>\n",
       "  <tbody>\n",
       "    <tr>\n",
       "      <th>0</th>\n",
       "      <td>0</td>\n",
       "      <td>Just happened a terrible car crash</td>\n",
       "    </tr>\n",
       "    <tr>\n",
       "      <th>1</th>\n",
       "      <td>2</td>\n",
       "      <td>Heard about #earthquake is different cities, s...</td>\n",
       "    </tr>\n",
       "    <tr>\n",
       "      <th>2</th>\n",
       "      <td>3</td>\n",
       "      <td>there is a forest fire at spot pond, geese are...</td>\n",
       "    </tr>\n",
       "    <tr>\n",
       "      <th>3</th>\n",
       "      <td>9</td>\n",
       "      <td>Apocalypse lighting. #Spokane #wildfires</td>\n",
       "    </tr>\n",
       "    <tr>\n",
       "      <th>4</th>\n",
       "      <td>11</td>\n",
       "      <td>Typhoon Soudelor kills 28 in China and Taiwan</td>\n",
       "    </tr>\n",
       "  </tbody>\n",
       "</table>\n",
       "</div>\n",
       "    <div class=\"colab-df-buttons\">\n",
       "\n",
       "  <div class=\"colab-df-container\">\n",
       "    <button class=\"colab-df-convert\" onclick=\"convertToInteractive('df-08df1144-e5ad-4605-9820-63ae06898f51')\"\n",
       "            title=\"Convert this dataframe to an interactive table.\"\n",
       "            style=\"display:none;\">\n",
       "\n",
       "  <svg xmlns=\"http://www.w3.org/2000/svg\" height=\"24px\" viewBox=\"0 -960 960 960\">\n",
       "    <path d=\"M120-120v-720h720v720H120Zm60-500h600v-160H180v160Zm220 220h160v-160H400v160Zm0 220h160v-160H400v160ZM180-400h160v-160H180v160Zm440 0h160v-160H620v160ZM180-180h160v-160H180v160Zm440 0h160v-160H620v160Z\"/>\n",
       "  </svg>\n",
       "    </button>\n",
       "\n",
       "  <style>\n",
       "    .colab-df-container {\n",
       "      display:flex;\n",
       "      gap: 12px;\n",
       "    }\n",
       "\n",
       "    .colab-df-convert {\n",
       "      background-color: #E8F0FE;\n",
       "      border: none;\n",
       "      border-radius: 50%;\n",
       "      cursor: pointer;\n",
       "      display: none;\n",
       "      fill: #1967D2;\n",
       "      height: 32px;\n",
       "      padding: 0 0 0 0;\n",
       "      width: 32px;\n",
       "    }\n",
       "\n",
       "    .colab-df-convert:hover {\n",
       "      background-color: #E2EBFA;\n",
       "      box-shadow: 0px 1px 2px rgba(60, 64, 67, 0.3), 0px 1px 3px 1px rgba(60, 64, 67, 0.15);\n",
       "      fill: #174EA6;\n",
       "    }\n",
       "\n",
       "    .colab-df-buttons div {\n",
       "      margin-bottom: 4px;\n",
       "    }\n",
       "\n",
       "    [theme=dark] .colab-df-convert {\n",
       "      background-color: #3B4455;\n",
       "      fill: #D2E3FC;\n",
       "    }\n",
       "\n",
       "    [theme=dark] .colab-df-convert:hover {\n",
       "      background-color: #434B5C;\n",
       "      box-shadow: 0px 1px 3px 1px rgba(0, 0, 0, 0.15);\n",
       "      filter: drop-shadow(0px 1px 2px rgba(0, 0, 0, 0.3));\n",
       "      fill: #FFFFFF;\n",
       "    }\n",
       "  </style>\n",
       "\n",
       "    <script>\n",
       "      const buttonEl =\n",
       "        document.querySelector('#df-08df1144-e5ad-4605-9820-63ae06898f51 button.colab-df-convert');\n",
       "      buttonEl.style.display =\n",
       "        google.colab.kernel.accessAllowed ? 'block' : 'none';\n",
       "\n",
       "      async function convertToInteractive(key) {\n",
       "        const element = document.querySelector('#df-08df1144-e5ad-4605-9820-63ae06898f51');\n",
       "        const dataTable =\n",
       "          await google.colab.kernel.invokeFunction('convertToInteractive',\n",
       "                                                    [key], {});\n",
       "        if (!dataTable) return;\n",
       "\n",
       "        const docLinkHtml = 'Like what you see? Visit the ' +\n",
       "          '<a target=\"_blank\" href=https://colab.research.google.com/notebooks/data_table.ipynb>data table notebook</a>'\n",
       "          + ' to learn more about interactive tables.';\n",
       "        element.innerHTML = '';\n",
       "        dataTable['output_type'] = 'display_data';\n",
       "        await google.colab.output.renderOutput(dataTable, element);\n",
       "        const docLink = document.createElement('div');\n",
       "        docLink.innerHTML = docLinkHtml;\n",
       "        element.appendChild(docLink);\n",
       "      }\n",
       "    </script>\n",
       "  </div>\n",
       "\n",
       "\n",
       "<div id=\"df-fdfe1d02-1120-4214-8bd7-35b2a92b3076\">\n",
       "  <button class=\"colab-df-quickchart\" onclick=\"quickchart('df-fdfe1d02-1120-4214-8bd7-35b2a92b3076')\"\n",
       "            title=\"Suggest charts.\"\n",
       "            style=\"display:none;\">\n",
       "\n",
       "<svg xmlns=\"http://www.w3.org/2000/svg\" height=\"24px\"viewBox=\"0 0 24 24\"\n",
       "     width=\"24px\">\n",
       "    <g>\n",
       "        <path d=\"M19 3H5c-1.1 0-2 .9-2 2v14c0 1.1.9 2 2 2h14c1.1 0 2-.9 2-2V5c0-1.1-.9-2-2-2zM9 17H7v-7h2v7zm4 0h-2V7h2v10zm4 0h-2v-4h2v4z\"/>\n",
       "    </g>\n",
       "</svg>\n",
       "  </button>\n",
       "\n",
       "<style>\n",
       "  .colab-df-quickchart {\n",
       "      --bg-color: #E8F0FE;\n",
       "      --fill-color: #1967D2;\n",
       "      --hover-bg-color: #E2EBFA;\n",
       "      --hover-fill-color: #174EA6;\n",
       "      --disabled-fill-color: #AAA;\n",
       "      --disabled-bg-color: #DDD;\n",
       "  }\n",
       "\n",
       "  [theme=dark] .colab-df-quickchart {\n",
       "      --bg-color: #3B4455;\n",
       "      --fill-color: #D2E3FC;\n",
       "      --hover-bg-color: #434B5C;\n",
       "      --hover-fill-color: #FFFFFF;\n",
       "      --disabled-bg-color: #3B4455;\n",
       "      --disabled-fill-color: #666;\n",
       "  }\n",
       "\n",
       "  .colab-df-quickchart {\n",
       "    background-color: var(--bg-color);\n",
       "    border: none;\n",
       "    border-radius: 50%;\n",
       "    cursor: pointer;\n",
       "    display: none;\n",
       "    fill: var(--fill-color);\n",
       "    height: 32px;\n",
       "    padding: 0;\n",
       "    width: 32px;\n",
       "  }\n",
       "\n",
       "  .colab-df-quickchart:hover {\n",
       "    background-color: var(--hover-bg-color);\n",
       "    box-shadow: 0 1px 2px rgba(60, 64, 67, 0.3), 0 1px 3px 1px rgba(60, 64, 67, 0.15);\n",
       "    fill: var(--button-hover-fill-color);\n",
       "  }\n",
       "\n",
       "  .colab-df-quickchart-complete:disabled,\n",
       "  .colab-df-quickchart-complete:disabled:hover {\n",
       "    background-color: var(--disabled-bg-color);\n",
       "    fill: var(--disabled-fill-color);\n",
       "    box-shadow: none;\n",
       "  }\n",
       "\n",
       "  .colab-df-spinner {\n",
       "    border: 2px solid var(--fill-color);\n",
       "    border-color: transparent;\n",
       "    border-bottom-color: var(--fill-color);\n",
       "    animation:\n",
       "      spin 1s steps(1) infinite;\n",
       "  }\n",
       "\n",
       "  @keyframes spin {\n",
       "    0% {\n",
       "      border-color: transparent;\n",
       "      border-bottom-color: var(--fill-color);\n",
       "      border-left-color: var(--fill-color);\n",
       "    }\n",
       "    20% {\n",
       "      border-color: transparent;\n",
       "      border-left-color: var(--fill-color);\n",
       "      border-top-color: var(--fill-color);\n",
       "    }\n",
       "    30% {\n",
       "      border-color: transparent;\n",
       "      border-left-color: var(--fill-color);\n",
       "      border-top-color: var(--fill-color);\n",
       "      border-right-color: var(--fill-color);\n",
       "    }\n",
       "    40% {\n",
       "      border-color: transparent;\n",
       "      border-right-color: var(--fill-color);\n",
       "      border-top-color: var(--fill-color);\n",
       "    }\n",
       "    60% {\n",
       "      border-color: transparent;\n",
       "      border-right-color: var(--fill-color);\n",
       "    }\n",
       "    80% {\n",
       "      border-color: transparent;\n",
       "      border-right-color: var(--fill-color);\n",
       "      border-bottom-color: var(--fill-color);\n",
       "    }\n",
       "    90% {\n",
       "      border-color: transparent;\n",
       "      border-bottom-color: var(--fill-color);\n",
       "    }\n",
       "  }\n",
       "</style>\n",
       "\n",
       "  <script>\n",
       "    async function quickchart(key) {\n",
       "      const quickchartButtonEl =\n",
       "        document.querySelector('#' + key + ' button');\n",
       "      quickchartButtonEl.disabled = true;  // To prevent multiple clicks.\n",
       "      quickchartButtonEl.classList.add('colab-df-spinner');\n",
       "      try {\n",
       "        const charts = await google.colab.kernel.invokeFunction(\n",
       "            'suggestCharts', [key], {});\n",
       "      } catch (error) {\n",
       "        console.error('Error during call to suggestCharts:', error);\n",
       "      }\n",
       "      quickchartButtonEl.classList.remove('colab-df-spinner');\n",
       "      quickchartButtonEl.classList.add('colab-df-quickchart-complete');\n",
       "    }\n",
       "    (() => {\n",
       "      let quickchartButtonEl =\n",
       "        document.querySelector('#df-fdfe1d02-1120-4214-8bd7-35b2a92b3076 button');\n",
       "      quickchartButtonEl.style.display =\n",
       "        google.colab.kernel.accessAllowed ? 'block' : 'none';\n",
       "    })();\n",
       "  </script>\n",
       "</div>\n",
       "\n",
       "    </div>\n",
       "  </div>\n"
      ],
      "text/plain": [
       "   id                                               text\n",
       "0   0                 Just happened a terrible car crash\n",
       "1   2  Heard about #earthquake is different cities, s...\n",
       "2   3  there is a forest fire at spot pond, geese are...\n",
       "3   9           Apocalypse lighting. #Spokane #wildfires\n",
       "4  11      Typhoon Soudelor kills 28 in China and Taiwan"
      ]
     },
     "execution_count": 18,
     "metadata": {},
     "output_type": "execute_result"
    }
   ],
   "source": [
    "df_test_clean.head()"
   ]
  },
  {
   "cell_type": "markdown",
   "metadata": {
    "id": "Tg5iHF_fyhPx"
   },
   "source": [
    "Now that we have removed any unnecessary features, let's take a look at the distribution of disaster tweets and not disaster tweets."
   ]
  },
  {
   "cell_type": "code",
   "execution_count": 7,
   "metadata": {
    "colab": {
     "base_uri": "https://localhost:8080/"
    },
    "id": "gkbhzDfGgvut",
    "outputId": "f60e0b93-d8a2-46ef-9c77-33b1b6b87a8e"
   },
   "outputs": [
    {
     "data": {
      "text/plain": [
       "0    4342\n",
       "1    3271\n",
       "Name: target, dtype: int64"
      ]
     },
     "execution_count": 7,
     "metadata": {},
     "output_type": "execute_result"
    }
   ],
   "source": [
    "df_train_clean['target'].value_counts()\n"
   ]
  },
  {
   "cell_type": "markdown",
   "metadata": {
    "id": "R3MG5Gp4yxPr"
   },
   "source": [
    "In our training set we have 4342 not disaster tweets and 3271 disasters tweets. To get a picture of this break down, let's create a graph."
   ]
  },
  {
   "cell_type": "code",
   "execution_count": 8,
   "metadata": {
    "colab": {
     "base_uri": "https://localhost:8080/",
     "height": 467
    },
    "id": "er7F8AL9j2vW",
    "outputId": "fb6661ef-4d66-46cb-f70f-60e6faf1bb59"
   },
   "outputs": [
    {
     "data": {
      "image/png": "[encoded data removed]",
      "text/plain": [
       "<Figure size 640x480 with 1 Axes>"
      ]
     },
     "metadata": {},
     "output_type": "display_data"
    }
   ],
   "source": [
    "df_train_clean['target'].value_counts().plot(kind='bar', title='Distribution of Disaster Tweets Labels')\n",
    "plt.xlabel('Disaster Tweet')\n",
    "plt.ylabel('Count')\n",
    "plt.show()"
   ]
  },
  {
   "cell_type": "markdown",
   "metadata": {
    "id": "RBVXlMjOy_EG"
   },
   "source": [
    "As we can see we have more non-disaster tweets than disaster tweets but not so much so that it will cause a problem for the models to come."
   ]
  },
  {
   "cell_type": "markdown",
   "metadata": {
    "id": "wVYttYV8lMs9"
   },
   "source": [
    "Let's take a look at the text of each tweets. First let's see what the disaster  tweets look like."
   ]
  },
  {
   "cell_type": "code",
   "execution_count": 29,
   "metadata": {
    "colab": {
     "base_uri": "https://localhost:8080/"
    },
    "id": "LilxCTfsk7Lj",
    "outputId": "b154e1ac-cdc8-4699-d97b-a5f6549200e5"
   },
   "outputs": [
    {
     "data": {
      "text/plain": [
       "0       Our Deeds are the Reason of this #earthquake M...\n",
       "1                  Forest fire near La Ronge Sask. Canada\n",
       "2       All residents asked to 'shelter in place' are ...\n",
       "3       13,000 people receive #wildfires evacuation or...\n",
       "4       Just got sent this photo from Ruby #Alaska as ...\n",
       "                              ...                        \n",
       "7608    Two giant cranes holding a bridge collapse int...\n",
       "7609    @aria_ahrary @TheTawniest The out of control w...\n",
       "7610    M1.94 [01:04 UTC]?5km S of Volcano Hawaii. htt...\n",
       "7611    Police investigating after an e-bike collided ...\n",
       "7612    The Latest: More Homes Razed by Northern Calif...\n",
       "Name: text, Length: 3271, dtype: object"
      ]
     },
     "execution_count": 29,
     "metadata": {},
     "output_type": "execute_result"
    }
   ],
   "source": [
    "df_train_clean[df_train_clean['target'] == 1]['text']\n"
   ]
  },
  {
   "cell_type": "markdown",
   "metadata": {
    "id": "SwaBDlhOzPe9"
   },
   "source": [
    "Now the non-disaster tweets."
   ]
  },
  {
   "cell_type": "code",
   "execution_count": 30,
   "metadata": {
    "colab": {
     "base_uri": "https://localhost:8080/"
    },
    "id": "Hg5OHIK8kBFp",
    "outputId": "a0659930-3d95-4f03-9161-d4c3322c24ed"
   },
   "outputs": [
    {
     "data": {
      "text/plain": [
       "15                                         What's up man?\n",
       "16                                          I love fruits\n",
       "17                                       Summer is lovely\n",
       "18                                      My car is so fast\n",
       "19                           What a goooooooaaaaaal!!!!!!\n",
       "                              ...                        \n",
       "7581    @engineshed Great atmosphere at the British Li...\n",
       "7582    Cramer: Iger's 3 words that wrecked Disney's s...\n",
       "7584    These boxes are ready to explode! Exploding Ki...\n",
       "7587                                   Sirens everywhere!\n",
       "7593    I just heard a really loud bang and everyone i...\n",
       "Name: text, Length: 4342, dtype: object"
      ]
     },
     "execution_count": 30,
     "metadata": {},
     "output_type": "execute_result"
    }
   ],
   "source": [
    "df_train_clean[df_train_clean['target'] == 0]['text']"
   ]
  },
  {
   "cell_type": "markdown",
   "metadata": {
    "id": "z4k77bELzeLn"
   },
   "source": [
    "Now let’s prepare our data for our model. First, we will create a training set with the tweets and classifiers. Then create a set of our test tweets that we will use to test our model."
   ]
  },
  {
   "cell_type": "code",
   "execution_count": 31,
   "metadata": {
    "colab": {
     "base_uri": "https://localhost:8080/"
    },
    "id": "qjX1pGtAJp-S",
    "outputId": "75df9a93-a148-4b46-cdeb-36fe268f5492"
   },
   "outputs": [
    {
     "name": "stdout",
     "output_type": "stream",
     "text": [
      "7613\n",
      "7613\n",
      "3263\n"
     ]
    }
   ],
   "source": [
    "X_train = df_train_clean['text'].values\n",
    "y_train = df_train_clean['target'].values\n",
    "X_test = df_test_clean['text'].values\n",
    "print(len(X_train))\n",
    "print(len(y_train))\n",
    "print(len(X_test))"
   ]
  },
  {
   "cell_type": "markdown",
   "metadata": {
    "id": "lvqdA0C9lZSX"
   },
   "source": [
    "# RNN Model"
   ]
  },
  {
   "cell_type": "markdown",
   "metadata": {
    "id": "XoPjS-yvneln"
   },
   "source": [
    "The first thing we need to do is reshape our tweets into a format that our model can understand. We will do this by creating a dictionary of all the words in all the tweets. Then we tokenize the words, making them numbers. Next we will find the length of the longest tweet and pad the rest of the tweets so they are all the same length."
   ]
  },
  {
   "cell_type": "markdown",
   "metadata": {
    "id": "7X7KBytelk1P"
   },
   "source": [
    "So, let's merge our train and test dataset. This way we will get all the words that appear in both sets into our dictionary."
   ]
  },
  {
   "cell_type": "code",
   "execution_count": 32,
   "metadata": {
    "colab": {
     "base_uri": "https://localhost:8080/"
    },
    "id": "--G_4O7GOKOO",
    "outputId": "3fface18-3dc2-4872-956d-6be9fce3df98"
   },
   "outputs": [
    {
     "name": "stdout",
     "output_type": "stream",
     "text": [
      "10876\n"
     ]
    }
   ],
   "source": [
    "all_text = np.concatenate((X_train, X_test))\n",
    "print(len(all_text))"
   ]
  },
  {
   "cell_type": "markdown",
   "metadata": {
    "id": "gMYOl9e6ll85"
   },
   "source": [
    "Next, we will create our dictionary using the Tokenizer model."
   ]
  },
  {
   "cell_type": "code",
   "execution_count": 33,
   "metadata": {
    "colab": {
     "base_uri": "https://localhost:8080/"
    },
    "id": "0PMoczG9NMAD",
    "outputId": "095dea31-84b9-4bc4-8067-9a1b5c8b3cbb"
   },
   "outputs": [
    {
     "name": "stdout",
     "output_type": "stream",
     "text": [
      "29320\n"
     ]
    }
   ],
   "source": [
    "token = Tokenizer()\n",
    "token.fit_on_texts(all_text)\n",
    "vocab = len(token.word_index) + 1\n",
    "print(vocab)"
   ]
  },
  {
   "cell_type": "markdown",
   "metadata": {
    "id": "6kNMj61Ondgq"
   },
   "source": [
    "It looks like we have 29320 unique words. Next let's find the longest tweet."
   ]
  },
  {
   "cell_type": "code",
   "execution_count": 34,
   "metadata": {
    "colab": {
     "base_uri": "https://localhost:8080/"
    },
    "id": "FllgIxtsO1QG",
    "outputId": "298db167-623f-4cac-fc7c-cdc4d9722bb0"
   },
   "outputs": [
    {
     "name": "stdout",
     "output_type": "stream",
     "text": [
      "157\n"
     ]
    }
   ],
   "source": [
    "max_len = 0\n",
    "for text in all_text:\n",
    "    if len(text) > max_len:\n",
    "        max_len = len(text)\n",
    "print(max_len)"
   ]
  },
  {
   "cell_type": "markdown",
   "metadata": {
    "id": "aiq-sRG-lpH-"
   },
   "source": [
    "Now that we know our longest tweet is 157 words long, we can translate our tweets to lists of numbers."
   ]
  },
  {
   "cell_type": "code",
   "execution_count": 35,
   "metadata": {
    "id": "yhyLDoX9QLC4"
   },
   "outputs": [],
   "source": [
    "X_train_token = token.texts_to_sequences(X_train)\n",
    "X_test_token = token.texts_to_sequences(X_test)"
   ]
  },
  {
   "cell_type": "markdown",
   "metadata": {
    "id": "oivwf0q2nbVe"
   },
   "source": [
    "Let's take a look at our newly translated tweets."
   ]
  },
  {
   "cell_type": "code",
   "execution_count": 36,
   "metadata": {
    "colab": {
     "base_uri": "https://localhost:8080/"
    },
    "id": "9Q9B9R0oQSfO",
    "outputId": "96809ee3-da86-4e03-ba56-97d31249c172"
   },
   "outputs": [
    {
     "name": "stdout",
     "output_type": "stream",
     "text": [
      "[114, 5944, 24, 4, 850, 8, 21, 253, 151, 1820, 3841, 88, 41]\n",
      "[32, 794, 5, 1522, 131, 97]\n"
     ]
    }
   ],
   "source": [
    "print(X_train_token[0])\n",
    "print(X_test_token[0])"
   ]
  },
  {
   "cell_type": "code",
   "execution_count": 37,
   "metadata": {
    "id": "lMDI1pK6QYN1"
   },
   "outputs": [],
   "source": [
    "X_train_pad = sequence.pad_sequences(X_train_token, maxlen=max_len, padding='post')\n",
    "X_test_pad = sequence.pad_sequences(X_test_token, maxlen=max_len, padding='post')"
   ]
  },
  {
   "cell_type": "markdown",
   "metadata": {
    "id": "5yb967f9naYO"
   },
   "source": [
    "Our final step is to pad the lists of tweets, so they are all the same length. Now that we have a list of all the tweets that have been tokenized and are the same length it is time for our model."
   ]
  },
  {
   "cell_type": "markdown",
   "metadata": {
    "id": "up2K12Wa1MOY"
   },
   "source": [
    "For our first model, let’s just use the simple Recurrent Neural Network. A RNN takes sequence data, like our tweets, and uses feedback within the network to update the model as it processes the sequence of data. The model will create predictions with the model, check the error rate, and then update the bias and weights to adjust the model. Let's get started."
   ]
  },
  {
   "cell_type": "code",
   "execution_count": 38,
   "metadata": {
    "colab": {
     "base_uri": "https://localhost:8080/"
    },
    "id": "dtPe4SgjQlqF",
    "outputId": "c7345692-4fea-47f1-b2f1-d23b02dd9995"
   },
   "outputs": [
    {
     "name": "stdout",
     "output_type": "stream",
     "text": [
      "Model: \"sequential\"\n",
      "_________________________________________________________________\n",
      " Layer (type)                Output Shape              Param #   \n",
      "=================================================================\n",
      " embedding (Embedding)       (None, 157, 128)          3752960   \n",
      "                                                                 \n",
      " simple_rnn (SimpleRNN)      (None, 128)               32896     \n",
      "                                                                 \n",
      " dense (Dense)               (None, 1)                 129       \n",
      "                                                                 \n",
      "=================================================================\n",
      "Total params: 3785985 (14.44 MB)\n",
      "Trainable params: 3785985 (14.44 MB)\n",
      "Non-trainable params: 0 (0.00 Byte)\n",
      "_________________________________________________________________\n"
     ]
    }
   ],
   "source": [
    "model = Sequential()\n",
    "\n",
    "model.add(Embedding(input_dim=vocab, output_dim= 128, input_length=max_len))\n",
    "\n",
    "model.add(SimpleRNN(128))\n",
    "\n",
    "model.add(Dense(1, activation='sigmoid'))\n",
    "\n",
    "opt = tf.keras.optimizers.Adam(learning_rate=0.001)\n",
    "model.compile(optimizer=opt, loss='binary_crossentropy', metrics=['accuracy'])\n",
    "\n",
    "model.summary()"
   ]
  },
  {
   "cell_type": "markdown",
   "metadata": {
    "id": "mGbSDEa52n3f"
   },
   "source": [
    "So now that our simple RNN model is built, we used the Adam optimizer with learning rate 0.001 and a sigmoid activation function in our output layer to create a binary, disaster or not, output."
   ]
  },
  {
   "cell_type": "markdown",
   "metadata": {
    "id": "szrXS0Pm2_oV"
   },
   "source": [
    "Let's test the model on our training data, reserving 20% of the data for validation."
   ]
  },
  {
   "cell_type": "code",
   "execution_count": 39,
   "metadata": {
    "colab": {
     "base_uri": "https://localhost:8080/"
    },
    "id": "ERgouhYvSWZ7",
    "outputId": "b63af548-0350-4625-e5cd-c0913d0485dc"
   },
   "outputs": [
    {
     "name": "stdout",
     "output_type": "stream",
     "text": [
      "Epoch 1/10\n",
      "48/48 [==============================] - 22s 331ms/step - loss: 0.6864 - accuracy: 0.5732 - val_loss: 0.6967 - val_accuracy: 0.5345\n",
      "Epoch 2/10\n",
      "48/48 [==============================] - 14s 292ms/step - loss: 0.6877 - accuracy: 0.5637 - val_loss: 0.7047 - val_accuracy: 0.5345\n",
      "Epoch 3/10\n",
      "48/48 [==============================] - 11s 237ms/step - loss: 0.6841 - accuracy: 0.5709 - val_loss: 0.7055 - val_accuracy: 0.5246\n",
      "Epoch 4/10\n",
      "48/48 [==============================] - 10s 201ms/step - loss: 0.6865 - accuracy: 0.5660 - val_loss: 0.6933 - val_accuracy: 0.5345\n",
      "Epoch 5/10\n",
      "48/48 [==============================] - 12s 243ms/step - loss: 0.6804 - accuracy: 0.5824 - val_loss: 0.6978 - val_accuracy: 0.5345\n",
      "Epoch 6/10\n",
      "48/48 [==============================] - 10s 209ms/step - loss: 0.6937 - accuracy: 0.5514 - val_loss: 0.7128 - val_accuracy: 0.5522\n",
      "Epoch 7/10\n",
      "48/48 [==============================] - 10s 208ms/step - loss: 0.6797 - accuracy: 0.5949 - val_loss: 0.6908 - val_accuracy: 0.5456\n",
      "Epoch 8/10\n",
      "48/48 [==============================] - 8s 169ms/step - loss: 0.6778 - accuracy: 0.5897 - val_loss: 0.6939 - val_accuracy: 0.5463\n",
      "Epoch 9/10\n",
      "48/48 [==============================] - 9s 192ms/step - loss: 0.6795 - accuracy: 0.5893 - val_loss: 0.6918 - val_accuracy: 0.5463\n",
      "Epoch 10/10\n",
      "48/48 [==============================] - 9s 190ms/step - loss: 0.6785 - accuracy: 0.5893 - val_loss: 0.7018 - val_accuracy: 0.5469\n"
     ]
    }
   ],
   "source": [
    "model_hist = model.fit(X_train_pad, y_train, epochs=10, batch_size=128,validation_split=0.2)"
   ]
  },
  {
   "cell_type": "markdown",
   "metadata": {
    "id": "4SvTaPH8nmRo"
   },
   "source": [
    "Now that our model is fit, let's take a look at the metrics, accuracy and loss."
   ]
  },
  {
   "cell_type": "code",
   "execution_count": 40,
   "metadata": {
    "colab": {
     "base_uri": "https://localhost:8080/",
     "height": 472
    },
    "id": "BvFhINznTwlj",
    "outputId": "0c2fdc3a-f4e8-4cc2-8052-9acc61c3a03a"
   },
   "outputs": [
    {
     "data": {
      "image/png": "[encoded data removed]",
      "text/plain": [
       "<Figure size 640x480 with 1 Axes>"
      ]
     },
     "metadata": {},
     "output_type": "display_data"
    }
   ],
   "source": [
    "plt.plot(model_hist.history['accuracy'])\n",
    "plt.plot(model_hist.history['val_accuracy'])\n",
    "plt.title('Model accuracy')\n",
    "plt.ylabel('Accuracy')\n",
    "plt.xlabel('Epoch')\n",
    "plt.legend(['Train','Validation'], loc='upper left')\n",
    "plt.ylim(0, 1)\n",
    "plt.show()"
   ]
  },
  {
   "cell_type": "markdown",
   "metadata": {
    "id": "-iRh71vOnnMv"
   },
   "source": [
    "It appears that our simple RNN model wasn't able to improve its accuracy much over the ten epochs. We will discuss why soon."
   ]
  },
  {
   "cell_type": "code",
   "execution_count": 41,
   "metadata": {
    "colab": {
     "base_uri": "https://localhost:8080/",
     "height": 472
    },
    "id": "s-oP6JIbT4CD",
    "outputId": "410ad7ba-0ba2-4f18-a1ce-edaa34b7238c"
   },
   "outputs": [
    {
     "data": {
      "image/png": "[encoded data removed]",
      "text/plain": [
       "<Figure size 640x480 with 1 Axes>"
      ]
     },
     "metadata": {},
     "output_type": "display_data"
    }
   ],
   "source": [
    "plt.plot(model_hist.history['loss'])\n",
    "plt.plot(model_hist.history['val_loss'])\n",
    "plt.title('Model loss')\n",
    "plt.ylabel('Loss')\n",
    "plt.xlabel('Epoch')\n",
    "plt.legend(['Train','Validation'], loc='upper left')\n",
    "plt.ylim(0, 1)\n",
    "plt.show()"
   ]
  },
  {
   "cell_type": "markdown",
   "metadata": {
    "id": "yg9AQszbnnyw"
   },
   "source": [
    "As with our accuracy graph, it didn't seem like the model was learning too much during each epoch."
   ]
  },
  {
   "cell_type": "markdown",
   "metadata": {
    "id": "z79-1Egf3i4F"
   },
   "source": [
    "One issue with simple RNN models is the vanishing gradient problem. Our model can’t back propagate far enough in each sequence to memorize the order of words and thus make an accurate prediction and update itself. Let's try a more complex type of RNN model."
   ]
  },
  {
   "cell_type": "markdown",
   "metadata": {
    "id": "KjFXFff250gF"
   },
   "source": [
    "# LSTM RNN Model"
   ]
  },
  {
   "cell_type": "markdown",
   "metadata": {
    "id": "2KCuIlr038Ln"
   },
   "source": [
    "The Long Short Term Memory (LSTM) RNN model addresses the issue of the vanishing gradient. It is specially designed to allow for the memorization in long sequence data so that the model is able create accurate predictions. Let's try it out."
   ]
  },
  {
   "cell_type": "code",
   "execution_count": 42,
   "metadata": {
    "colab": {
     "base_uri": "https://localhost:8080/"
    },
    "id": "vg_g9oIEVAwI",
    "outputId": "e6dcf9fc-fde3-44b9-d303-7b33aefffde3"
   },
   "outputs": [
    {
     "name": "stdout",
     "output_type": "stream",
     "text": [
      "Model: \"sequential_1\"\n",
      "_________________________________________________________________\n",
      " Layer (type)                Output Shape              Param #   \n",
      "=================================================================\n",
      " embedding_1 (Embedding)     (None, 157, 128)          3752960   \n",
      "                                                                 \n",
      " lstm (LSTM)                 (None, 157, 128)          131584    \n",
      "                                                                 \n",
      " global_max_pooling1d (Glob  (None, 128)               0         \n",
      " alMaxPooling1D)                                                 \n",
      "                                                                 \n",
      " batch_normalization (Batch  (None, 128)               512       \n",
      " Normalization)                                                  \n",
      "                                                                 \n",
      " dropout (Dropout)           (None, 128)               0         \n",
      "                                                                 \n",
      " dense_1 (Dense)             (None, 256)               33024     \n",
      "                                                                 \n",
      " dropout_1 (Dropout)         (None, 256)               0         \n",
      "                                                                 \n",
      " dense_2 (Dense)             (None, 1)                 257       \n",
      "                                                                 \n",
      "=================================================================\n",
      "Total params: 3918337 (14.95 MB)\n",
      "Trainable params: 3918081 (14.95 MB)\n",
      "Non-trainable params: 256 (1.00 KB)\n",
      "_________________________________________________________________\n"
     ]
    }
   ],
   "source": [
    "model2 = Sequential()\n",
    "\n",
    "model2.add(Embedding(input_dim=vocab, output_dim= 128, input_length=max_len))\n",
    "\n",
    "model2.add(LSTM(128,return_sequences = True))\n",
    "model2.add(GlobalMaxPool1D())\n",
    "model2.add(BatchNormalization())\n",
    "model2.add(Dropout(0.50))\n",
    "\n",
    "model2.add(Dense(256, activation='relu'))\n",
    "\n",
    "model2.add(Dropout(0.25))\n",
    "\n",
    "model2.add(Dense(1, activation='sigmoid'))\n",
    "\n",
    "opt = tf.keras.optimizers.Adam(learning_rate=0.001)\n",
    "model2.compile(optimizer=opt, loss='binary_crossentropy', metrics=['accuracy'])\n",
    "\n",
    "model2.summary()"
   ]
  },
  {
   "cell_type": "code",
   "execution_count": 43,
   "metadata": {
    "colab": {
     "base_uri": "https://localhost:8080/"
    },
    "id": "QI-5OxcS39-C",
    "outputId": "5ef870a6-6b40-456a-9790-01fae38423e0"
   },
   "outputs": [
    {
     "name": "stdout",
     "output_type": "stream",
     "text": [
      "Epoch 1/10\n",
      "42/42 [==============================] - 12s 182ms/step - loss: 0.5771 - accuracy: 0.6962 - val_loss: 0.6713 - val_accuracy: 0.6563\n",
      "Epoch 2/10\n",
      "42/42 [==============================] - 5s 131ms/step - loss: 0.3130 - accuracy: 0.8803 - val_loss: 0.6540 - val_accuracy: 0.7859\n",
      "Epoch 3/10\n",
      "42/42 [==============================] - 5s 116ms/step - loss: 0.1474 - accuracy: 0.9480 - val_loss: 0.6200 - val_accuracy: 0.7574\n",
      "Epoch 4/10\n",
      "42/42 [==============================] - 4s 85ms/step - loss: 0.0801 - accuracy: 0.9737 - val_loss: 0.5964 - val_accuracy: 0.6782\n",
      "Epoch 5/10\n",
      "42/42 [==============================] - 3s 68ms/step - loss: 0.0472 - accuracy: 0.9861 - val_loss: 0.5945 - val_accuracy: 0.7071\n",
      "Epoch 6/10\n",
      "42/42 [==============================] - 2s 57ms/step - loss: 0.0319 - accuracy: 0.9910 - val_loss: 0.5403 - val_accuracy: 0.7513\n",
      "Epoch 7/10\n",
      "42/42 [==============================] - 3s 61ms/step - loss: 0.0289 - accuracy: 0.9921 - val_loss: 0.5494 - val_accuracy: 0.7487\n",
      "Epoch 8/10\n",
      "42/42 [==============================] - 3s 66ms/step - loss: 0.0211 - accuracy: 0.9936 - val_loss: 0.5612 - val_accuracy: 0.7474\n",
      "Epoch 9/10\n",
      "42/42 [==============================] - 1s 35ms/step - loss: 0.0148 - accuracy: 0.9934 - val_loss: 0.5466 - val_accuracy: 0.7491\n",
      "Epoch 10/10\n",
      "42/42 [==============================] - 1s 25ms/step - loss: 0.0139 - accuracy: 0.9944 - val_loss: 0.5843 - val_accuracy: 0.7443\n"
     ]
    }
   ],
   "source": [
    "model2_hist = model2.fit(X_train_pad, y_train, epochs=10, batch_size=128,validation_split=0.3)"
   ]
  },
  {
   "cell_type": "markdown",
   "metadata": {
    "id": "TVvcMJPanp5T"
   },
   "source": [
    "So now that our model is built and fitted, let's take a look at the metrics."
   ]
  },
  {
   "cell_type": "code",
   "execution_count": 101,
   "metadata": {
    "colab": {
     "base_uri": "https://localhost:8080/",
     "height": 472
    },
    "id": "phKrDFhzZJx0",
    "outputId": "358aa754-f1ab-4249-bceb-a470b8f445ae"
   },
   "outputs": [
    {
     "data": {
      "image/png": "[encoded data removed]",
      "text/plain": [
       "<Figure size 640x480 with 1 Axes>"
      ]
     },
     "metadata": {},
     "output_type": "display_data"
    }
   ],
   "source": [
    "plt.plot(model2_hist.history['accuracy'])\n",
    "plt.plot(model2_hist.history['val_accuracy'])\n",
    "plt.title('Model Accuracy')\n",
    "plt.ylabel('Accuracy')\n",
    "plt.xlabel('Epoch')\n",
    "plt.legend(['Train','Validation'], loc='upper left')\n",
    "plt.ylim(0, 1)\n",
    "plt.show()"
   ]
  },
  {
   "cell_type": "markdown",
   "metadata": {
    "id": "7Huu9i-CnqmX"
   },
   "source": [
    "As we can see, accuracy increased over the epochs. Our model was able to better fit the data. However, our validation accuracy seems to have risen, dropped, then flattened out. This could be signs that our model is overfitting the training data."
   ]
  },
  {
   "cell_type": "code",
   "execution_count": 100,
   "metadata": {
    "colab": {
     "base_uri": "https://localhost:8080/",
     "height": 472
    },
    "id": "_K6wI75TZNkb",
    "outputId": "3d1704f0-cd4b-4d35-a8e8-62c43cd282ba"
   },
   "outputs": [
    {
     "data": {
      "image/png": "[encoded data removed]",
      "text/plain": [
       "<Figure size 640x480 with 1 Axes>"
      ]
     },
     "metadata": {},
     "output_type": "display_data"
    }
   ],
   "source": [
    "plt.plot(model2_hist.history['loss'])\n",
    "plt.plot(model2_hist.history['val_loss'])\n",
    "plt.title('Model Loss')\n",
    "plt.ylabel('Loss')\n",
    "plt.xlabel('Epoch')\n",
    "plt.legend(['Train','Validation'], loc='upper left')\n",
    "plt.ylim(0, 1)\n",
    "plt.show()"
   ]
  },
  {
   "cell_type": "markdown",
   "metadata": {
    "id": "4HFpbERcnr1Q"
   },
   "source": [
    "As with our accuracy graph our model is now learning after each epoch. However, our validation loss seems to slightly decrease but doesn't really go down. That is another sign that our model might have trained too well for the training."
   ]
  },
  {
   "cell_type": "markdown",
   "metadata": {
    "id": "ijBrTrDj5Xo_"
   },
   "source": [
    "Let's use our model to predict our test data."
   ]
  },
  {
   "cell_type": "code",
   "execution_count": 90,
   "metadata": {
    "colab": {
     "base_uri": "https://localhost:8080/"
    },
    "id": "QHenEj6cidaw",
    "outputId": "fcecaa60-1ef4-477e-a825-e9f9943a2cc5"
   },
   "outputs": [
    {
     "name": "stdout",
     "output_type": "stream",
     "text": [
      "102/102 [==============================] - 1s 5ms/step\n"
     ]
    }
   ],
   "source": [
    "pred = model2.predict(X_test_pad)"
   ]
  },
  {
   "cell_type": "markdown",
   "metadata": {
    "id": "sEVSudZM5gIA"
   },
   "source": [
    "Now that we have our predictions for the test dataset let's create a csv so we can upload it to Kaggle and see how well the model did."
   ]
  },
  {
   "cell_type": "code",
   "execution_count": 91,
   "metadata": {
    "colab": {
     "base_uri": "https://localhost:8080/"
    },
    "id": "PvNiCHEWjZA-",
    "outputId": "35fe959b-ce2a-4fb3-b712-d8e36c183467"
   },
   "outputs": [
    {
     "data": {
      "text/plain": [
       "(3263, 2)"
      ]
     },
     "execution_count": 91,
     "metadata": {},
     "output_type": "execute_result"
    }
   ],
   "source": [
    "df_sample_sub.shape"
   ]
  },
  {
   "cell_type": "code",
   "execution_count": 92,
   "metadata": {
    "colab": {
     "base_uri": "https://localhost:8080/"
    },
    "id": "PyEfUsnKjjZw",
    "outputId": "e7227db5-e8dc-46c1-cf80-5cb5907bde4f"
   },
   "outputs": [
    {
     "name": "stdout",
     "output_type": "stream",
     "text": [
      "3263\n"
     ]
    }
   ],
   "source": [
    "print(len(pred))"
   ]
  },
  {
   "cell_type": "code",
   "execution_count": 93,
   "metadata": {
    "id": "1qNQ_LI5ihSM"
   },
   "outputs": [],
   "source": [
    "for i in range(len(pred)):\n",
    "    if pred[i] > 0.5:\n",
    "        df_sample_sub['target'][i] = 1\n",
    "    else:\n",
    "        df_sample_sub['target'][i] = 0"
   ]
  },
  {
   "cell_type": "markdown",
   "metadata": {
    "id": "vInwfPbJ5pqU"
   },
   "source": [
    "Our predictions were 76% accurate! To try and improve on that score, let's see if we can address that overfitting issue."
   ]
  },
  {
   "cell_type": "markdown",
   "metadata": {
    "id": "zsagvOX75piQ"
   },
   "source": [
    "# Tuning our LSTM Model"
   ]
  },
  {
   "cell_type": "markdown",
   "metadata": {
    "id": "ZwRInrImn7OK"
   },
   "source": [
    "To help prevent overfitting let's add another dropout layer and reduce the number of hidden units."
   ]
  },
  {
   "cell_type": "code",
   "execution_count": 99,
   "metadata": {
    "colab": {
     "base_uri": "https://localhost:8080/"
    },
    "id": "rv2LlefUqBwL",
    "outputId": "e8205926-7286-4ab2-9202-17f5df78c8e0"
   },
   "outputs": [
    {
     "name": "stdout",
     "output_type": "stream",
     "text": [
      "Model: \"sequential_26\"\n",
      "_________________________________________________________________\n",
      " Layer (type)                Output Shape              Param #   \n",
      "=================================================================\n",
      " embedding_26 (Embedding)    (None, 157, 64)           1876480   \n",
      "                                                                 \n",
      " lstm_29 (LSTM)              (None, 157, 64)           33024     \n",
      "                                                                 \n",
      " global_max_pooling1d_23 (G  (None, 64)                0         \n",
      " lobalMaxPooling1D)                                              \n",
      "                                                                 \n",
      " batch_normalization_45 (Ba  (None, 64)                256       \n",
      " tchNormalization)                                               \n",
      "                                                                 \n",
      " dropout_58 (Dropout)        (None, 64)                0         \n",
      "                                                                 \n",
      " dense_55 (Dense)            (None, 256)               16640     \n",
      "                                                                 \n",
      " batch_normalization_46 (Ba  (None, 256)               1024      \n",
      " tchNormalization)                                               \n",
      "                                                                 \n",
      " dropout_59 (Dropout)        (None, 256)               0         \n",
      "                                                                 \n",
      " dense_56 (Dense)            (None, 128)               32896     \n",
      "                                                                 \n",
      " batch_normalization_47 (Ba  (None, 128)               512       \n",
      " tchNormalization)                                               \n",
      "                                                                 \n",
      " dropout_60 (Dropout)        (None, 128)               0         \n",
      "                                                                 \n",
      " dense_57 (Dense)            (None, 1)                 129       \n",
      "                                                                 \n",
      "=================================================================\n",
      "Total params: 1960961 (7.48 MB)\n",
      "Trainable params: 1960065 (7.48 MB)\n",
      "Non-trainable params: 896 (3.50 KB)\n",
      "_________________________________________________________________\n"
     ]
    }
   ],
   "source": [
    "model3 = Sequential()\n",
    "\n",
    "model3.add(Embedding(input_dim=vocab, output_dim= 64, input_length=max_len))\n",
    "\n",
    "model3.add(LSTM(64,return_sequences = True))\n",
    "model3.add(GlobalMaxPool1D())\n",
    "model3.add(BatchNormalization())\n",
    "model3.add(Dropout(0.50))\n",
    "\n",
    "model3.add(Dense(256, activation='relu'))\n",
    "model3.add(BatchNormalization())\n",
    "model3.add(Dropout(0.25))\n",
    "\n",
    "model3.add(Dense(128, activation='relu'))\n",
    "model3.add(BatchNormalization())\n",
    "model3.add(Dropout(0.25))\n",
    "\n",
    "model3.add(Dense(1, activation='sigmoid'))\n",
    "\n",
    "opt = tf.keras.optimizers.Adam(learning_rate=0.0005)\n",
    "model3.compile(optimizer=opt, loss='binary_crossentropy', metrics=['accuracy'])\n",
    "\n",
    "model3.summary()"
   ]
  },
  {
   "cell_type": "code",
   "execution_count": 87,
   "metadata": {
    "colab": {
     "base_uri": "https://localhost:8080/"
    },
    "id": "KR3DGKolqMVg",
    "outputId": "f8cf999f-ee9f-46e9-9b60-8e7d4bebe9aa"
   },
   "outputs": [
    {
     "name": "stdout",
     "output_type": "stream",
     "text": [
      "Epoch 1/10\n",
      "42/42 [==============================] - 14s 229ms/step - loss: 0.7964 - accuracy: 0.5759 - val_loss: 0.6860 - val_accuracy: 0.5582\n",
      "Epoch 2/10\n",
      "42/42 [==============================] - 5s 122ms/step - loss: 0.6490 - accuracy: 0.6656 - val_loss: 0.6897 - val_accuracy: 0.5582\n",
      "Epoch 3/10\n",
      "42/42 [==============================] - 6s 153ms/step - loss: 0.5063 - accuracy: 0.7681 - val_loss: 0.6949 - val_accuracy: 0.5582\n",
      "Epoch 4/10\n",
      "42/42 [==============================] - 4s 100ms/step - loss: 0.3924 - accuracy: 0.8274 - val_loss: 0.6865 - val_accuracy: 0.5582\n",
      "Epoch 5/10\n",
      "42/42 [==============================] - 4s 92ms/step - loss: 0.2826 - accuracy: 0.8861 - val_loss: 0.6731 - val_accuracy: 0.5582\n",
      "Epoch 6/10\n",
      "42/42 [==============================] - 4s 90ms/step - loss: 0.1973 - accuracy: 0.9270 - val_loss: 0.6521 - val_accuracy: 0.5644\n",
      "Epoch 7/10\n",
      "42/42 [==============================] - 2s 44ms/step - loss: 0.1312 - accuracy: 0.9544 - val_loss: 0.6189 - val_accuracy: 0.6436\n",
      "Epoch 8/10\n",
      "42/42 [==============================] - 2s 51ms/step - loss: 0.1002 - accuracy: 0.9662 - val_loss: 0.5898 - val_accuracy: 0.6935\n",
      "Epoch 9/10\n",
      "42/42 [==============================] - 2s 44ms/step - loss: 0.0790 - accuracy: 0.9743 - val_loss: 0.5496 - val_accuracy: 0.7364\n",
      "Epoch 10/10\n",
      "42/42 [==============================] - 2s 47ms/step - loss: 0.0608 - accuracy: 0.9818 - val_loss: 0.5392 - val_accuracy: 0.7347\n"
     ]
    }
   ],
   "source": [
    "model3_hist = model3.fit(X_train_pad, y_train, epochs=10, batch_size=128,validation_split=0.3)"
   ]
  },
  {
   "cell_type": "markdown",
   "metadata": {
    "id": "UsdVO8NN6VE9"
   },
   "source": [
    "Let's take a look and see if our model's validation accuracy and loss have improved."
   ]
  },
  {
   "cell_type": "code",
   "execution_count": 105,
   "metadata": {
    "colab": {
     "base_uri": "https://localhost:8080/",
     "height": 472
    },
    "id": "bh_Q3ps6udF3",
    "outputId": "dc4a6190-514f-4963-d6ec-a46d32fe5406"
   },
   "outputs": [
    {
     "data": {
      "image/png": "[encoded data removed]",
      "text/plain": [
       "<Figure size 640x480 with 1 Axes>"
      ]
     },
     "metadata": {},
     "output_type": "display_data"
    }
   ],
   "source": [
    "plt.plot(model3_hist.history['accuracy'])\n",
    "plt.plot(model3_hist.history['val_accuracy'])\n",
    "plt.title('Model Accuracy')\n",
    "plt.ylabel('Accuracy')\n",
    "plt.xlabel('Epoch')\n",
    "plt.legend(['Train','Validation'], loc='upper left')\n",
    "plt.ylim(0, 1)\n",
    "plt.show()"
   ]
  },
  {
   "cell_type": "markdown",
   "metadata": {
    "id": "5vpfxg216d1N"
   },
   "source": [
    "It appears that our validation accuracy sat stagnant for the first few epochs then started to increase. This can be a sign that we ran into a vanishing gradient issue."
   ]
  },
  {
   "cell_type": "code",
   "execution_count": 106,
   "metadata": {
    "colab": {
     "base_uri": "https://localhost:8080/",
     "height": 472
    },
    "id": "fSXY2DrAucwq",
    "outputId": "d5f7fa9d-ea07-4721-ad63-1a578aad3679"
   },
   "outputs": [
    {
     "data": {
      "image/png": "[encoded data removed]",
      "text/plain": [
       "<Figure size 640x480 with 1 Axes>"
      ]
     },
     "metadata": {},
     "output_type": "display_data"
    }
   ],
   "source": [
    "plt.plot(model3_hist.history['loss'])\n",
    "plt.plot(model3_hist.history['val_loss'])\n",
    "plt.title('Model Loss')\n",
    "plt.ylabel('Loss')\n",
    "plt.xlabel('Epoch')\n",
    "plt.legend(['Train','Validation'], loc='upper left')\n",
    "plt.ylim(0, 1)\n",
    "plt.show()"
   ]
  },
  {
   "cell_type": "markdown",
   "metadata": {
    "id": "eskkGSuInzg4"
   },
   "source": [
    "Our validation loss is remaining somewhat level. It looks like our solutions might not have impacted the overfitting of the model. We will discuss why in the conclusion. First let's check the accuracy of the predictions from this model."
   ]
  },
  {
   "cell_type": "code",
   "execution_count": 94,
   "metadata": {
    "id": "zPhGvhSyu9YS"
   },
   "outputs": [],
   "source": [
    "df_sample_sub3 = pd.read_csv(io.BytesIO(uploaded['sample_submission.csv']))"
   ]
  },
  {
   "cell_type": "code",
   "execution_count": 96,
   "metadata": {
    "colab": {
     "base_uri": "https://localhost:8080/"
    },
    "id": "yuHy-WhGu5pS",
    "outputId": "964c8362-d7e2-4cef-f4a5-ef9f8b68852f"
   },
   "outputs": [
    {
     "name": "stdout",
     "output_type": "stream",
     "text": [
      "102/102 [==============================] - 0s 5ms/step\n"
     ]
    }
   ],
   "source": [
    "pred3 = model3.predict(X_test_pad)\n",
    "for i in range(len(pred3)):\n",
    "    if pred[i] > 0.5:\n",
    "        df_sample_sub3['target'][i] = 1\n",
    "    else:\n",
    "        df_sample_sub3['target'][i] = 0"
   ]
  },
  {
   "cell_type": "markdown",
   "metadata": {
    "id": "xxkomVm07MTn"
   },
   "source": [
    "After uploading our predictions to Kaggle, the second model scored 76%. Almost exactly the same as the previous model. Let’s discuss why in the conclusion."
   ]
  },
  {
   "cell_type": "markdown",
   "metadata": {
    "id": "jXEAhtI-ntPK"
   },
   "source": [
    "# Conclusion"
   ]
  },
  {
   "cell_type": "code",
   "execution_count": 107,
   "metadata": {
    "colab": {
     "base_uri": "https://localhost:8080/",
     "height": 472
    },
    "id": "6SKFqODK-irz",
    "outputId": "a0f096a5-9bb8-4bcc-fad2-77c8229f19f3"
   },
   "outputs": [
    {
     "data": {
      "image/png": "[encoded data removed]",
      "text/plain": [
       "<Figure size 640x480 with 1 Axes>"
      ]
     },
     "metadata": {},
     "output_type": "display_data"
    }
   ],
   "source": [
    "plt.plot(model2_hist.history['accuracy'], label = 'LSTM 1 Accuracy', color = 'b')\n",
    "plt.plot(model2_hist.history['val_accuracy'],label = 'LSTM 1 Validation Accuracy', color = 'g')\n",
    "plt.plot(model3_hist.history['accuracy'],label = 'LSTM 2  Accuracy', color = 'r')\n",
    "plt.plot(model3_hist.history['val_accuracy'],label = 'LSTM 2 Validation Accuracy', color = 'orange')\n",
    "plt.title('Model Accuracy')\n",
    "plt.ylabel('Accuracy')\n",
    "plt.xlabel('Epoch')\n",
    "plt.legend(loc='lower left')\n",
    "plt.ylim(0, 1)\n",
    "plt.show()"
   ]
  },
  {
   "cell_type": "code",
   "execution_count": 103,
   "metadata": {
    "colab": {
     "base_uri": "https://localhost:8080/",
     "height": 472
    },
    "id": "gk2G_2Df90V5",
    "outputId": "bc0eb7f1-98f7-4520-8f1c-3b4a5ba770d8"
   },
   "outputs": [
    {
     "data": {
      "image/png": "[encoded data removed]",
      "text/plain": [
       "<Figure size 640x480 with 1 Axes>"
      ]
     },
     "metadata": {},
     "output_type": "display_data"
    }
   ],
   "source": [
    "plt.plot(model2_hist.history['loss'], label = 'LSTM 1 Loss', color = 'b')\n",
    "plt.plot(model2_hist.history['val_loss'], label = 'LSTM 1 Validation Loss',linestyle='dashed', color = 'g')\n",
    "plt.plot(model3_hist.history['loss'],label = 'LSTM 2 Loss', color = 'r')\n",
    "plt.plot(model3_hist.history['val_loss'],label = 'LSTM 2 Validation Loss',linestyle='dashed', color = 'orange')\n",
    "plt.title('Model Loss')\n",
    "plt.ylabel('Loss')\n",
    "plt.xlabel('Epoch')\n",
    "plt.legend(loc='upper left')\n",
    "plt.ylim(0, 1)\n",
    "plt.show()"
   ]
  },
  {
   "cell_type": "markdown",
   "metadata": {
    "id": "_NBlz5Ge_NFe"
   },
   "source": [
    "First, let’s take a look at our results. Both models scored about 76% accurate on the test data. However, we can see that the models vary. We can see that the first model was able to train the data faster. This may have indicated that there was overfitting, so we added dropout layers and reduced the number of hidden units. This caused the model to learn slower but still did not address the issue of the loss not decreasing."
   ]
  },
  {
   "cell_type": "markdown",
   "metadata": {
    "id": "XgUZ0TLxn01_"
   },
   "source": [
    "Our goal was to predict whether a tweet was referring to a natural disaster or not. From a set of 7600 tweets, we trained NLP RNN models to predict this.\n",
    "We first used a simple RNN model and saw how the simple RNN models can fall victim to the vanishing descent problem. So, we switched to the LSTM RNN model that is designed to handle longer sequence data. Our LSTM model was able to predict 76% of the 3300 test tweets as being an authentic disaster tweet or not.\n"
   ]
  },
  {
   "cell_type": "markdown",
   "metadata": {
    "id": "ZtvSfbw2mGHo"
   },
   "source": [
    "In the future, to improve our model we may want to adjust the batch size in the models, update the momentum of the optimizer, and varying weight initializations. Another factor may be the number of tweets in our training set. More tweets would prevent our data from learning the data too quickly and overfitting."
   ]
  },
  {
   "cell_type": "markdown",
   "metadata": {
    "id": "X565vSQfBRFd"
   },
   "source": [
    "# Refernces"
   ]
  },
  {
   "cell_type": "markdown",
   "metadata": {
    "id": "7dtCIBEtBTa2"
   },
   "source": [
    "\n",
    "\n",
    "\n",
    "*   https://www.kaggle.com/competitions/nlp-getting-started/overview\n",
    "*   https://www.tensorflow.org/text/tutorials/text_classification_rnn\n",
    "*   https://www.tensorflow.org/api_docs/python/tf/keras/layers/LSTM\n",
    "*   https://www.analyticsvidhya.com/blog/2021/06/lstm-for-text-classification/#h-lstm-python-for-text-classification\n",
    "*   https://towardsdatascience.com/learn-how-recurrent-neural-networks-work-84e975feaaf7\n",
    "*   https://medium.com/geekculture/10-hyperparameters-to-keep-an-eye-on-for-your-lstm-model-and-other-tips-f0ff5b63fcd4\n",
    "\n"
   ]
  },
  {
   "cell_type": "code",
   "execution_count": 97,
   "metadata": {
    "id": "i1j-k3WHxTwG"
   },
   "outputs": [],
   "source": [
    "#from google.colab import files"
   ]
  },
  {
   "cell_type": "code",
   "execution_count": null,
   "metadata": {
    "colab": {
     "base_uri": "https://localhost:8080/"
    },
    "id": "hx2AADTNj5Ge",
    "outputId": "99201eaf-6df1-4df4-c3c7-f627aeb26fbc"
   },
   "outputs": [
    {
     "data": {
      "text/plain": [
       "0    2173\n",
       "1    1090\n",
       "Name: target, dtype: int64"
      ]
     },
     "execution_count": 144,
     "metadata": {},
     "output_type": "execute_result"
    }
   ],
   "source": [
    "#df_sample_sub.target.value_counts()"
   ]
  },
  {
   "cell_type": "code",
   "execution_count": null,
   "metadata": {
    "colab": {
     "base_uri": "https://localhost:8080/",
     "height": 17
    },
    "id": "Pp_nhBMIks6_",
    "outputId": "b7212109-cf15-4fc1-e574-638f352c464c"
   },
   "outputs": [
    {
     "data": {
      "application/javascript": [
       "\n",
       "    async function download(id, filename, size) {\n",
       "      if (!google.colab.kernel.accessAllowed) {\n",
       "        return;\n",
       "      }\n",
       "      const div = document.createElement('div');\n",
       "      const label = document.createElement('label');\n",
       "      label.textContent = `Downloading \"${filename}\": `;\n",
       "      div.appendChild(label);\n",
       "      const progress = document.createElement('progress');\n",
       "      progress.max = size;\n",
       "      div.appendChild(progress);\n",
       "      document.body.appendChild(div);\n",
       "\n",
       "      const buffers = [];\n",
       "      let downloaded = 0;\n",
       "\n",
       "      const channel = await google.colab.kernel.comms.open(id);\n",
       "      // Send a message to notify the kernel that we're ready.\n",
       "      channel.send({})\n",
       "\n",
       "      for await (const message of channel.messages) {\n",
       "        // Send a message to notify the kernel that we're ready.\n",
       "        channel.send({})\n",
       "        if (message.buffers) {\n",
       "          for (const buffer of message.buffers) {\n",
       "            buffers.push(buffer);\n",
       "            downloaded += buffer.byteLength;\n",
       "            progress.value = downloaded;\n",
       "          }\n",
       "        }\n",
       "      }\n",
       "      const blob = new Blob(buffers, {type: 'application/binary'});\n",
       "      const a = document.createElement('a');\n",
       "      a.href = window.URL.createObjectURL(blob);\n",
       "      a.download = filename;\n",
       "      div.appendChild(a);\n",
       "      a.click();\n",
       "      div.remove();\n",
       "    }\n",
       "  "
      ],
      "text/plain": [
       "<IPython.core.display.Javascript object>"
      ]
     },
     "metadata": {},
     "output_type": "display_data"
    },
    {
     "data": {
      "application/javascript": [
       "download(\"download_dc887dc5-e3d9-4695-b374-048d56bc27f5\", \"output.csv\", 37955)"
      ],
      "text/plain": [
       "<IPython.core.display.Javascript object>"
      ]
     },
     "metadata": {},
     "output_type": "display_data"
    }
   ],
   "source": [
    "#df_sample_sub.to_csv('output.csv', encoding = 'utf-8-sig')\n",
    "#files.download('output.csv')"
   ]
  },
  {
   "cell_type": "code",
   "execution_count": 98,
   "metadata": {
    "colab": {
     "base_uri": "https://localhost:8080/",
     "height": 17
    },
    "id": "GNNchbdtvPzH",
    "outputId": "bdc60d45-9629-45c7-a190-c40275cdb824"
   },
   "outputs": [
    {
     "data": {
      "application/javascript": [
       "\n",
       "    async function download(id, filename, size) {\n",
       "      if (!google.colab.kernel.accessAllowed) {\n",
       "        return;\n",
       "      }\n",
       "      const div = document.createElement('div');\n",
       "      const label = document.createElement('label');\n",
       "      label.textContent = `Downloading \"${filename}\": `;\n",
       "      div.appendChild(label);\n",
       "      const progress = document.createElement('progress');\n",
       "      progress.max = size;\n",
       "      div.appendChild(progress);\n",
       "      document.body.appendChild(div);\n",
       "\n",
       "      const buffers = [];\n",
       "      let downloaded = 0;\n",
       "\n",
       "      const channel = await google.colab.kernel.comms.open(id);\n",
       "      // Send a message to notify the kernel that we're ready.\n",
       "      channel.send({})\n",
       "\n",
       "      for await (const message of channel.messages) {\n",
       "        // Send a message to notify the kernel that we're ready.\n",
       "        channel.send({})\n",
       "        if (message.buffers) {\n",
       "          for (const buffer of message.buffers) {\n",
       "            buffers.push(buffer);\n",
       "            downloaded += buffer.byteLength;\n",
       "            progress.value = downloaded;\n",
       "          }\n",
       "        }\n",
       "      }\n",
       "      const blob = new Blob(buffers, {type: 'application/binary'});\n",
       "      const a = document.createElement('a');\n",
       "      a.href = window.URL.createObjectURL(blob);\n",
       "      a.download = filename;\n",
       "      div.appendChild(a);\n",
       "      a.click();\n",
       "      div.remove();\n",
       "    }\n",
       "  "
      ],
      "text/plain": [
       "<IPython.core.display.Javascript object>"
      ]
     },
     "metadata": {},
     "output_type": "display_data"
    },
    {
     "data": {
      "application/javascript": [
       "download(\"download_c21fd8a5-8aa1-4b48-8e03-b4789848b5f9\", \"output3.csv\", 37955)"
      ],
      "text/plain": [
       "<IPython.core.display.Javascript object>"
      ]
     },
     "metadata": {},
     "output_type": "display_data"
    }
   ],
   "source": [
    "#df_sample_sub3.to_csv('output3.csv', encoding = 'utf-8-sig')\n",
    "#files.download('output3.csv')"
   ]
  }
 ],
 "metadata": {
  "accelerator": "GPU",
  "colab": {
   "gpuType": "T4",
   "provenance": []
  },
  "kernelspec": {
   "display_name": "Python 3 (ipykernel)",
   "language": "python",
   "name": "python3"
  },
  "language_info": {
   "codemirror_mode": {
    "name": "ipython",
    "version": 3
   },
   "file_extension": ".py",
   "mimetype": "text/x-python",
   "name": "python",
   "nbconvert_exporter": "python",
   "pygments_lexer": "ipython3",
   "version": "3.11.5"
  }
 },
 "nbformat": 4,
 "nbformat_minor": 1
}
